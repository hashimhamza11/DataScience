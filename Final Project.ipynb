{
 "cells": [
  {
   "cell_type": "code",
   "execution_count": 23,
   "id": "c64eed11",
   "metadata": {},
   "outputs": [],
   "source": [
    "import pandas as pd\n",
    "import numpy as np\n",
    "import matplotlib.pyplot as plt\n",
    "import seaborn as sns"
   ]
  },
  {
   "cell_type": "code",
   "execution_count": 24,
   "id": "1c08ad3c",
   "metadata": {},
   "outputs": [
    {
     "data": {
      "text/html": [
       "<div>\n",
       "<style scoped>\n",
       "    .dataframe tbody tr th:only-of-type {\n",
       "        vertical-align: middle;\n",
       "    }\n",
       "\n",
       "    .dataframe tbody tr th {\n",
       "        vertical-align: top;\n",
       "    }\n",
       "\n",
       "    .dataframe thead th {\n",
       "        text-align: right;\n",
       "    }\n",
       "</style>\n",
       "<table border=\"1\" class=\"dataframe\">\n",
       "  <thead>\n",
       "    <tr style=\"text-align: right;\">\n",
       "      <th></th>\n",
       "      <th>Unnamed: 0</th>\n",
       "      <th>Unnamed: 0.1</th>\n",
       "      <th>State</th>\n",
       "      <th>Centre</th>\n",
       "      <th>Commodity</th>\n",
       "      <th>Variety</th>\n",
       "      <th>Unit</th>\n",
       "      <th>Category</th>\n",
       "      <th>Date</th>\n",
       "      <th>Retail Price</th>\n",
       "    </tr>\n",
       "  </thead>\n",
       "  <tbody>\n",
       "    <tr>\n",
       "      <th>0</th>\n",
       "      <td>0</td>\n",
       "      <td>0</td>\n",
       "      <td>Andhra Pradesh</td>\n",
       "      <td>Chittoor</td>\n",
       "      <td>Moong</td>\n",
       "      <td>Split</td>\n",
       "      <td>Kg.</td>\n",
       "      <td>Food</td>\n",
       "      <td>JAN-2001</td>\n",
       "      <td>24.00000</td>\n",
       "    </tr>\n",
       "    <tr>\n",
       "      <th>1</th>\n",
       "      <td>1</td>\n",
       "      <td>1</td>\n",
       "      <td>Andhra Pradesh</td>\n",
       "      <td>Guntur</td>\n",
       "      <td>Moong</td>\n",
       "      <td>Split</td>\n",
       "      <td>Kg.</td>\n",
       "      <td>Food</td>\n",
       "      <td>JAN-2001</td>\n",
       "      <td>26.00000</td>\n",
       "    </tr>\n",
       "    <tr>\n",
       "      <th>2</th>\n",
       "      <td>2</td>\n",
       "      <td>2</td>\n",
       "      <td>Andhra Pradesh</td>\n",
       "      <td>Kurnool</td>\n",
       "      <td>Moong</td>\n",
       "      <td>Split</td>\n",
       "      <td>Kg.</td>\n",
       "      <td>Food</td>\n",
       "      <td>JAN-2001</td>\n",
       "      <td>25.50000</td>\n",
       "    </tr>\n",
       "    <tr>\n",
       "      <th>3</th>\n",
       "      <td>3</td>\n",
       "      <td>3</td>\n",
       "      <td>Andhra Pradesh</td>\n",
       "      <td>Vishakhapatnam</td>\n",
       "      <td>Moong</td>\n",
       "      <td>Split</td>\n",
       "      <td>Kg.</td>\n",
       "      <td>Food</td>\n",
       "      <td>JAN-2001</td>\n",
       "      <td>28.32000</td>\n",
       "    </tr>\n",
       "    <tr>\n",
       "      <th>4</th>\n",
       "      <td>4</td>\n",
       "      <td>4</td>\n",
       "      <td>Arunachal Pradesh</td>\n",
       "      <td>Itanagar</td>\n",
       "      <td>Moong</td>\n",
       "      <td>Split</td>\n",
       "      <td>Kg.</td>\n",
       "      <td>Food</td>\n",
       "      <td>JAN-2001</td>\n",
       "      <td>28.32000</td>\n",
       "    </tr>\n",
       "    <tr>\n",
       "      <th>...</th>\n",
       "      <td>...</td>\n",
       "      <td>...</td>\n",
       "      <td>...</td>\n",
       "      <td>...</td>\n",
       "      <td>...</td>\n",
       "      <td>...</td>\n",
       "      <td>...</td>\n",
       "      <td>...</td>\n",
       "      <td>...</td>\n",
       "      <td>...</td>\n",
       "    </tr>\n",
       "    <tr>\n",
       "      <th>1134445</th>\n",
       "      <td>1147441</td>\n",
       "      <td>1147441</td>\n",
       "      <td>West Bengal</td>\n",
       "      <td>Jalpaiguri</td>\n",
       "      <td>Wheat</td>\n",
       "      <td>Kalyan HYV</td>\n",
       "      <td>Kg.</td>\n",
       "      <td>Food</td>\n",
       "      <td>MAR-2021</td>\n",
       "      <td>29.30198</td>\n",
       "    </tr>\n",
       "    <tr>\n",
       "      <th>1134446</th>\n",
       "      <td>1147442</td>\n",
       "      <td>1147442</td>\n",
       "      <td>West Bengal</td>\n",
       "      <td>Kolkata</td>\n",
       "      <td>Wheat</td>\n",
       "      <td>Desi</td>\n",
       "      <td>Kg.</td>\n",
       "      <td>Food</td>\n",
       "      <td>MAR-2021</td>\n",
       "      <td>29.30198</td>\n",
       "    </tr>\n",
       "    <tr>\n",
       "      <th>1134447</th>\n",
       "      <td>1147443</td>\n",
       "      <td>1147443</td>\n",
       "      <td>West Bengal</td>\n",
       "      <td>Kolkata</td>\n",
       "      <td>Wheat</td>\n",
       "      <td>Kalyan HYV</td>\n",
       "      <td>Kg.</td>\n",
       "      <td>Food</td>\n",
       "      <td>MAR-2021</td>\n",
       "      <td>29.30198</td>\n",
       "    </tr>\n",
       "    <tr>\n",
       "      <th>1134448</th>\n",
       "      <td>1147444</td>\n",
       "      <td>1147444</td>\n",
       "      <td>West Bengal</td>\n",
       "      <td>Malda</td>\n",
       "      <td>Wheat</td>\n",
       "      <td>Desi</td>\n",
       "      <td>Kg.</td>\n",
       "      <td>Food</td>\n",
       "      <td>MAR-2021</td>\n",
       "      <td>20.00000</td>\n",
       "    </tr>\n",
       "    <tr>\n",
       "      <th>1134449</th>\n",
       "      <td>1147445</td>\n",
       "      <td>1147445</td>\n",
       "      <td>West Bengal</td>\n",
       "      <td>Malda</td>\n",
       "      <td>Wheat</td>\n",
       "      <td>Kalyan HYV</td>\n",
       "      <td>Kg.</td>\n",
       "      <td>Food</td>\n",
       "      <td>MAR-2021</td>\n",
       "      <td>29.30198</td>\n",
       "    </tr>\n",
       "  </tbody>\n",
       "</table>\n",
       "<p>1134450 rows × 10 columns</p>\n",
       "</div>"
      ],
      "text/plain": [
       "         Unnamed: 0  Unnamed: 0.1              State          Centre  \\\n",
       "0                 0             0     Andhra Pradesh        Chittoor   \n",
       "1                 1             1     Andhra Pradesh          Guntur   \n",
       "2                 2             2     Andhra Pradesh         Kurnool   \n",
       "3                 3             3     Andhra Pradesh  Vishakhapatnam   \n",
       "4                 4             4  Arunachal Pradesh        Itanagar   \n",
       "...             ...           ...                ...             ...   \n",
       "1134445     1147441       1147441        West Bengal      Jalpaiguri   \n",
       "1134446     1147442       1147442        West Bengal         Kolkata   \n",
       "1134447     1147443       1147443        West Bengal         Kolkata   \n",
       "1134448     1147444       1147444        West Bengal           Malda   \n",
       "1134449     1147445       1147445        West Bengal           Malda   \n",
       "\n",
       "        Commodity     Variety Unit Category      Date  Retail Price  \n",
       "0           Moong       Split  Kg.     Food  JAN-2001      24.00000  \n",
       "1           Moong       Split  Kg.     Food  JAN-2001      26.00000  \n",
       "2           Moong       Split  Kg.     Food  JAN-2001      25.50000  \n",
       "3           Moong       Split  Kg.     Food  JAN-2001      28.32000  \n",
       "4           Moong       Split  Kg.     Food  JAN-2001      28.32000  \n",
       "...           ...         ...  ...      ...       ...           ...  \n",
       "1134445     Wheat  Kalyan HYV  Kg.     Food  MAR-2021      29.30198  \n",
       "1134446     Wheat        Desi  Kg.     Food  MAR-2021      29.30198  \n",
       "1134447     Wheat  Kalyan HYV  Kg.     Food  MAR-2021      29.30198  \n",
       "1134448     Wheat        Desi  Kg.     Food  MAR-2021      20.00000  \n",
       "1134449     Wheat  Kalyan HYV  Kg.     Food  MAR-2021      29.30198  \n",
       "\n",
       "[1134450 rows x 10 columns]"
      ]
     },
     "execution_count": 24,
     "metadata": {},
     "output_type": "execute_result"
    }
   ],
   "source": [
    "df=pd.read_csv(r\"E:\\Data Analysis\\Data Science\\Final_data.csv\")\n",
    "df"
   ]
  },
  {
   "cell_type": "markdown",
   "id": "c530e846",
   "metadata": {},
   "source": [
    "# 1. Fill all the null values in the columns Comodity, Variety, Retail Price. Can fill with NA if any dataset is not available in Commodity."
   ]
  },
  {
   "cell_type": "markdown",
   "id": "c8f47692",
   "metadata": {},
   "source": [
    "# 2. Can fill in 'FAQ' if data is not available in the field Variety."
   ]
  },
  {
   "cell_type": "markdown",
   "id": "bf5ac025",
   "metadata": {},
   "source": [
    "# 3. Fill in the null value of retail price with commodity and datawise. Need to find the retail price of each commodity separately based on the date.[Use for loop]"
   ]
  },
  {
   "cell_type": "markdown",
   "id": "666aee71",
   "metadata": {},
   "source": [
    "# 4. Which date has highest price of wheat?"
   ]
  },
  {
   "cell_type": "code",
   "execution_count": 25,
   "id": "5ef1a534",
   "metadata": {},
   "outputs": [
    {
     "data": {
      "text/plain": [
       "130.0"
      ]
     },
     "execution_count": 25,
     "metadata": {},
     "output_type": "execute_result"
    }
   ],
   "source": [
    "df[(df[\"Commodity\"]==\"Wheat\")][\"Retail Price\"].max()"
   ]
  },
  {
   "cell_type": "markdown",
   "id": "63433836",
   "metadata": {},
   "source": [
    "# 5. Which is the highest price of wheat statewise? "
   ]
  },
  {
   "cell_type": "code",
   "execution_count": 26,
   "id": "f4089580",
   "metadata": {},
   "outputs": [
    {
     "data": {
      "text/html": [
       "<div>\n",
       "<style scoped>\n",
       "    .dataframe tbody tr th:only-of-type {\n",
       "        vertical-align: middle;\n",
       "    }\n",
       "\n",
       "    .dataframe tbody tr th {\n",
       "        vertical-align: top;\n",
       "    }\n",
       "\n",
       "    .dataframe thead th {\n",
       "        text-align: right;\n",
       "    }\n",
       "</style>\n",
       "<table border=\"1\" class=\"dataframe\">\n",
       "  <thead>\n",
       "    <tr style=\"text-align: right;\">\n",
       "      <th></th>\n",
       "      <th>Unnamed: 0</th>\n",
       "      <th>Unnamed: 0.1</th>\n",
       "      <th>State</th>\n",
       "      <th>Centre</th>\n",
       "      <th>Commodity</th>\n",
       "      <th>Variety</th>\n",
       "      <th>Unit</th>\n",
       "      <th>Category</th>\n",
       "      <th>Date</th>\n",
       "      <th>Retail Price</th>\n",
       "    </tr>\n",
       "  </thead>\n",
       "  <tbody>\n",
       "    <tr>\n",
       "      <th>1133903</th>\n",
       "      <td>1146895</td>\n",
       "      <td>1146895</td>\n",
       "      <td>Tamil Nadu</td>\n",
       "      <td>Coimbatore</td>\n",
       "      <td>Wheat</td>\n",
       "      <td>Kalyan HYV</td>\n",
       "      <td>Kg.</td>\n",
       "      <td>Food</td>\n",
       "      <td>FEB-2021</td>\n",
       "      <td>130.0</td>\n",
       "    </tr>\n",
       "  </tbody>\n",
       "</table>\n",
       "</div>"
      ],
      "text/plain": [
       "         Unnamed: 0  Unnamed: 0.1       State      Centre Commodity  \\\n",
       "1133903     1146895       1146895  Tamil Nadu  Coimbatore     Wheat   \n",
       "\n",
       "            Variety Unit Category      Date  Retail Price  \n",
       "1133903  Kalyan HYV  Kg.     Food  FEB-2021         130.0  "
      ]
     },
     "execution_count": 26,
     "metadata": {},
     "output_type": "execute_result"
    }
   ],
   "source": [
    "df[(df[\"Commodity\"]==\"Wheat\") & (df[\"Retail Price\"]==130)]"
   ]
  },
  {
   "cell_type": "markdown",
   "id": "b178d2e1",
   "metadata": {},
   "source": [
    "# 6. If the commodity is mustard oil, how many varieties are available in mustard oil?"
   ]
  },
  {
   "cell_type": "code",
   "execution_count": 27,
   "id": "3a86a537",
   "metadata": {},
   "outputs": [
    {
     "data": {
      "text/plain": [
       "array(['Moong', 'Mustard Oil', 'Onion', 'Potato', 'Ragi', 'Red Chillies',\n",
       "       'Rice', 'Salt', 'Sugar', 'Suji', 'Tea', 'Arhar', 'Atta', 'Bajra',\n",
       "       'Banana', 'Besan', 'Biscuit', 'Apple', 'Groundnut Oil', 'Gur',\n",
       "       'Jowar', 'Maida', 'Maize', 'Masur', 'Meat', 'Milk', 'Coriander',\n",
       "       'Cummin Seed', 'Eggs', 'Fish', 'Ghee', 'Gingelly Oil', 'Gram',\n",
       "       'Black Pepper', 'Bread', 'Brinjal', 'Butter', 'Chicken', 'Coconut',\n",
       "       'Coconut Oil', 'Coffee', 'Tomato', 'Turmeric', 'Urad', 'Vanaspati',\n",
       "       'Wheat'], dtype=object)"
      ]
     },
     "execution_count": 27,
     "metadata": {},
     "output_type": "execute_result"
    }
   ],
   "source": [
    "df[\"Commodity\"].unique()"
   ]
  },
  {
   "cell_type": "code",
   "execution_count": 28,
   "id": "97e527ea",
   "metadata": {},
   "outputs": [
    {
     "data": {
      "text/plain": [
       "array(['FAQ'], dtype=object)"
      ]
     },
     "execution_count": 28,
     "metadata": {},
     "output_type": "execute_result"
    }
   ],
   "source": [
    "df[(df[\"Commodity\"]==\"Mustard Oil\")][\"Variety\"].unique()"
   ]
  },
  {
   "cell_type": "code",
   "execution_count": 29,
   "id": "4c0dcab6",
   "metadata": {},
   "outputs": [
    {
     "data": {
      "text/html": [
       "<div>\n",
       "<style scoped>\n",
       "    .dataframe tbody tr th:only-of-type {\n",
       "        vertical-align: middle;\n",
       "    }\n",
       "\n",
       "    .dataframe tbody tr th {\n",
       "        vertical-align: top;\n",
       "    }\n",
       "\n",
       "    .dataframe thead th {\n",
       "        text-align: right;\n",
       "    }\n",
       "</style>\n",
       "<table border=\"1\" class=\"dataframe\">\n",
       "  <thead>\n",
       "    <tr style=\"text-align: right;\">\n",
       "      <th></th>\n",
       "      <th>Unnamed: 0</th>\n",
       "      <th>Unnamed: 0.1</th>\n",
       "      <th>State</th>\n",
       "      <th>Centre</th>\n",
       "      <th>Commodity</th>\n",
       "      <th>Variety</th>\n",
       "      <th>Unit</th>\n",
       "      <th>Category</th>\n",
       "      <th>Date</th>\n",
       "      <th>Retail Price</th>\n",
       "    </tr>\n",
       "  </thead>\n",
       "  <tbody>\n",
       "    <tr>\n",
       "      <th>85</th>\n",
       "      <td>86</td>\n",
       "      <td>86</td>\n",
       "      <td>Andhra Pradesh</td>\n",
       "      <td>Chittoor</td>\n",
       "      <td>Mustard Oil</td>\n",
       "      <td>FAQ</td>\n",
       "      <td>Kg/Litre</td>\n",
       "      <td>Food</td>\n",
       "      <td>JAN-2001</td>\n",
       "      <td>41.20625</td>\n",
       "    </tr>\n",
       "    <tr>\n",
       "      <th>86</th>\n",
       "      <td>87</td>\n",
       "      <td>87</td>\n",
       "      <td>Andhra Pradesh</td>\n",
       "      <td>Guntur</td>\n",
       "      <td>Mustard Oil</td>\n",
       "      <td>FAQ</td>\n",
       "      <td>Kg/Litre</td>\n",
       "      <td>Food</td>\n",
       "      <td>JAN-2001</td>\n",
       "      <td>41.20625</td>\n",
       "    </tr>\n",
       "    <tr>\n",
       "      <th>87</th>\n",
       "      <td>88</td>\n",
       "      <td>88</td>\n",
       "      <td>Andhra Pradesh</td>\n",
       "      <td>Kurnool</td>\n",
       "      <td>Mustard Oil</td>\n",
       "      <td>FAQ</td>\n",
       "      <td>Kg/Litre</td>\n",
       "      <td>Food</td>\n",
       "      <td>JAN-2001</td>\n",
       "      <td>50.00000</td>\n",
       "    </tr>\n",
       "    <tr>\n",
       "      <th>88</th>\n",
       "      <td>89</td>\n",
       "      <td>89</td>\n",
       "      <td>Andhra Pradesh</td>\n",
       "      <td>Vishakhapatnam</td>\n",
       "      <td>Mustard Oil</td>\n",
       "      <td>FAQ</td>\n",
       "      <td>Kg/Litre</td>\n",
       "      <td>Food</td>\n",
       "      <td>JAN-2001</td>\n",
       "      <td>41.20625</td>\n",
       "    </tr>\n",
       "    <tr>\n",
       "      <th>89</th>\n",
       "      <td>90</td>\n",
       "      <td>90</td>\n",
       "      <td>Arunachal Pradesh</td>\n",
       "      <td>Itanagar</td>\n",
       "      <td>Mustard Oil</td>\n",
       "      <td>FAQ</td>\n",
       "      <td>Kg/Litre</td>\n",
       "      <td>Food</td>\n",
       "      <td>JAN-2001</td>\n",
       "      <td>41.20625</td>\n",
       "    </tr>\n",
       "    <tr>\n",
       "      <th>...</th>\n",
       "      <td>...</td>\n",
       "      <td>...</td>\n",
       "      <td>...</td>\n",
       "      <td>...</td>\n",
       "      <td>...</td>\n",
       "      <td>...</td>\n",
       "      <td>...</td>\n",
       "      <td>...</td>\n",
       "      <td>...</td>\n",
       "      <td>...</td>\n",
       "    </tr>\n",
       "    <tr>\n",
       "      <th>301455</th>\n",
       "      <td>303876</td>\n",
       "      <td>303876</td>\n",
       "      <td>Uttarakhand</td>\n",
       "      <td>Srinagar</td>\n",
       "      <td>Mustard Oil</td>\n",
       "      <td>FAQ</td>\n",
       "      <td>Kg/Litre</td>\n",
       "      <td>Food</td>\n",
       "      <td>MAR-2021</td>\n",
       "      <td>150.62069</td>\n",
       "    </tr>\n",
       "    <tr>\n",
       "      <th>301456</th>\n",
       "      <td>303877</td>\n",
       "      <td>303877</td>\n",
       "      <td>West Bengal</td>\n",
       "      <td>Asansol</td>\n",
       "      <td>Mustard Oil</td>\n",
       "      <td>FAQ</td>\n",
       "      <td>Kg/Litre</td>\n",
       "      <td>Food</td>\n",
       "      <td>MAR-2021</td>\n",
       "      <td>154.00000</td>\n",
       "    </tr>\n",
       "    <tr>\n",
       "      <th>301457</th>\n",
       "      <td>303878</td>\n",
       "      <td>303878</td>\n",
       "      <td>West Bengal</td>\n",
       "      <td>Howrah</td>\n",
       "      <td>Mustard Oil</td>\n",
       "      <td>FAQ</td>\n",
       "      <td>Kg/Litre</td>\n",
       "      <td>Food</td>\n",
       "      <td>MAR-2021</td>\n",
       "      <td>150.00000</td>\n",
       "    </tr>\n",
       "    <tr>\n",
       "      <th>301458</th>\n",
       "      <td>303879</td>\n",
       "      <td>303879</td>\n",
       "      <td>West Bengal</td>\n",
       "      <td>Jalpaiguri</td>\n",
       "      <td>Mustard Oil</td>\n",
       "      <td>FAQ</td>\n",
       "      <td>Kg/Litre</td>\n",
       "      <td>Food</td>\n",
       "      <td>MAR-2021</td>\n",
       "      <td>150.62069</td>\n",
       "    </tr>\n",
       "    <tr>\n",
       "      <th>301459</th>\n",
       "      <td>303880</td>\n",
       "      <td>303880</td>\n",
       "      <td>West Bengal</td>\n",
       "      <td>Kolkata</td>\n",
       "      <td>Mustard Oil</td>\n",
       "      <td>FAQ</td>\n",
       "      <td>Kg/Litre</td>\n",
       "      <td>Food</td>\n",
       "      <td>MAR-2021</td>\n",
       "      <td>160.00000</td>\n",
       "    </tr>\n",
       "  </tbody>\n",
       "</table>\n",
       "<p>20655 rows × 10 columns</p>\n",
       "</div>"
      ],
      "text/plain": [
       "        Unnamed: 0  Unnamed: 0.1              State          Centre  \\\n",
       "85              86            86     Andhra Pradesh        Chittoor   \n",
       "86              87            87     Andhra Pradesh          Guntur   \n",
       "87              88            88     Andhra Pradesh         Kurnool   \n",
       "88              89            89     Andhra Pradesh  Vishakhapatnam   \n",
       "89              90            90  Arunachal Pradesh        Itanagar   \n",
       "...            ...           ...                ...             ...   \n",
       "301455      303876        303876        Uttarakhand        Srinagar   \n",
       "301456      303877        303877        West Bengal         Asansol   \n",
       "301457      303878        303878        West Bengal          Howrah   \n",
       "301458      303879        303879        West Bengal      Jalpaiguri   \n",
       "301459      303880        303880        West Bengal         Kolkata   \n",
       "\n",
       "          Commodity Variety      Unit Category      Date  Retail Price  \n",
       "85      Mustard Oil     FAQ  Kg/Litre     Food  JAN-2001      41.20625  \n",
       "86      Mustard Oil     FAQ  Kg/Litre     Food  JAN-2001      41.20625  \n",
       "87      Mustard Oil     FAQ  Kg/Litre     Food  JAN-2001      50.00000  \n",
       "88      Mustard Oil     FAQ  Kg/Litre     Food  JAN-2001      41.20625  \n",
       "89      Mustard Oil     FAQ  Kg/Litre     Food  JAN-2001      41.20625  \n",
       "...             ...     ...       ...      ...       ...           ...  \n",
       "301455  Mustard Oil     FAQ  Kg/Litre     Food  MAR-2021     150.62069  \n",
       "301456  Mustard Oil     FAQ  Kg/Litre     Food  MAR-2021     154.00000  \n",
       "301457  Mustard Oil     FAQ  Kg/Litre     Food  MAR-2021     150.00000  \n",
       "301458  Mustard Oil     FAQ  Kg/Litre     Food  MAR-2021     150.62069  \n",
       "301459  Mustard Oil     FAQ  Kg/Litre     Food  MAR-2021     160.00000  \n",
       "\n",
       "[20655 rows x 10 columns]"
      ]
     },
     "execution_count": 29,
     "metadata": {},
     "output_type": "execute_result"
    }
   ],
   "source": [
    "df[(df[\"Commodity\"]==\"Mustard Oil\")]"
   ]
  },
  {
   "cell_type": "markdown",
   "id": "adc67191",
   "metadata": {},
   "source": [
    "# 7. What is the pomphret price in Kerala from 2001 to 2021?"
   ]
  },
  {
   "cell_type": "code",
   "execution_count": 30,
   "id": "a5917c79",
   "metadata": {},
   "outputs": [
    {
     "data": {
      "text/html": [
       "<div>\n",
       "<style scoped>\n",
       "    .dataframe tbody tr th:only-of-type {\n",
       "        vertical-align: middle;\n",
       "    }\n",
       "\n",
       "    .dataframe tbody tr th {\n",
       "        vertical-align: top;\n",
       "    }\n",
       "\n",
       "    .dataframe thead th {\n",
       "        text-align: right;\n",
       "    }\n",
       "</style>\n",
       "<table border=\"1\" class=\"dataframe\">\n",
       "  <thead>\n",
       "    <tr style=\"text-align: right;\">\n",
       "      <th></th>\n",
       "      <th>Unnamed: 0</th>\n",
       "      <th>Unnamed: 0.1</th>\n",
       "      <th>State</th>\n",
       "      <th>Centre</th>\n",
       "      <th>Commodity</th>\n",
       "      <th>Variety</th>\n",
       "      <th>Unit</th>\n",
       "      <th>Category</th>\n",
       "      <th>Date</th>\n",
       "      <th>Retail Price</th>\n",
       "    </tr>\n",
       "  </thead>\n",
       "  <tbody>\n",
       "    <tr>\n",
       "      <th>618637</th>\n",
       "      <td>627505</td>\n",
       "      <td>627505</td>\n",
       "      <td>Kerala</td>\n",
       "      <td>Ernakulam</td>\n",
       "      <td>Fish</td>\n",
       "      <td>Pomphret</td>\n",
       "      <td>Kg.</td>\n",
       "      <td>Food</td>\n",
       "      <td>JAN-2001</td>\n",
       "      <td>58.562500</td>\n",
       "    </tr>\n",
       "    <tr>\n",
       "      <th>618640</th>\n",
       "      <td>627508</td>\n",
       "      <td>627508</td>\n",
       "      <td>Kerala</td>\n",
       "      <td>Khozhikode</td>\n",
       "      <td>Fish</td>\n",
       "      <td>Pomphret</td>\n",
       "      <td>Kg.</td>\n",
       "      <td>Food</td>\n",
       "      <td>JAN-2001</td>\n",
       "      <td>58.562500</td>\n",
       "    </tr>\n",
       "    <tr>\n",
       "      <th>618643</th>\n",
       "      <td>627511</td>\n",
       "      <td>627511</td>\n",
       "      <td>Kerala</td>\n",
       "      <td>Trivandrum</td>\n",
       "      <td>Fish</td>\n",
       "      <td>Pomphret</td>\n",
       "      <td>Kg.</td>\n",
       "      <td>Food</td>\n",
       "      <td>JAN-2001</td>\n",
       "      <td>58.562500</td>\n",
       "    </tr>\n",
       "    <tr>\n",
       "      <th>619434</th>\n",
       "      <td>628308</td>\n",
       "      <td>628308</td>\n",
       "      <td>Kerala</td>\n",
       "      <td>Ernakulam</td>\n",
       "      <td>Fish</td>\n",
       "      <td>Pomphret</td>\n",
       "      <td>Kg.</td>\n",
       "      <td>Food</td>\n",
       "      <td>FEB-2001</td>\n",
       "      <td>58.937500</td>\n",
       "    </tr>\n",
       "    <tr>\n",
       "      <th>619437</th>\n",
       "      <td>628311</td>\n",
       "      <td>628311</td>\n",
       "      <td>Kerala</td>\n",
       "      <td>Khozhikode</td>\n",
       "      <td>Fish</td>\n",
       "      <td>Pomphret</td>\n",
       "      <td>Kg.</td>\n",
       "      <td>Food</td>\n",
       "      <td>FEB-2001</td>\n",
       "      <td>58.937500</td>\n",
       "    </tr>\n",
       "    <tr>\n",
       "      <th>...</th>\n",
       "      <td>...</td>\n",
       "      <td>...</td>\n",
       "      <td>...</td>\n",
       "      <td>...</td>\n",
       "      <td>...</td>\n",
       "      <td>...</td>\n",
       "      <td>...</td>\n",
       "      <td>...</td>\n",
       "      <td>...</td>\n",
       "      <td>...</td>\n",
       "    </tr>\n",
       "    <tr>\n",
       "      <th>810717</th>\n",
       "      <td>821031</td>\n",
       "      <td>821031</td>\n",
       "      <td>Kerala</td>\n",
       "      <td>Khozhikode</td>\n",
       "      <td>Fish</td>\n",
       "      <td>Pomphret</td>\n",
       "      <td>Kg.</td>\n",
       "      <td>Food</td>\n",
       "      <td>FEB-2021</td>\n",
       "      <td>500.000000</td>\n",
       "    </tr>\n",
       "    <tr>\n",
       "      <th>810720</th>\n",
       "      <td>821034</td>\n",
       "      <td>821034</td>\n",
       "      <td>Kerala</td>\n",
       "      <td>Trivandrum</td>\n",
       "      <td>Fish</td>\n",
       "      <td>Pomphret</td>\n",
       "      <td>Kg.</td>\n",
       "      <td>Food</td>\n",
       "      <td>FEB-2021</td>\n",
       "      <td>650.000000</td>\n",
       "    </tr>\n",
       "    <tr>\n",
       "      <th>811511</th>\n",
       "      <td>821831</td>\n",
       "      <td>821831</td>\n",
       "      <td>Kerala</td>\n",
       "      <td>Ernakulam</td>\n",
       "      <td>Fish</td>\n",
       "      <td>Pomphret</td>\n",
       "      <td>Kg.</td>\n",
       "      <td>Food</td>\n",
       "      <td>MAR-2021</td>\n",
       "      <td>316.901961</td>\n",
       "    </tr>\n",
       "    <tr>\n",
       "      <th>811514</th>\n",
       "      <td>821834</td>\n",
       "      <td>821834</td>\n",
       "      <td>Kerala</td>\n",
       "      <td>Khozhikode</td>\n",
       "      <td>Fish</td>\n",
       "      <td>Pomphret</td>\n",
       "      <td>Kg.</td>\n",
       "      <td>Food</td>\n",
       "      <td>MAR-2021</td>\n",
       "      <td>500.000000</td>\n",
       "    </tr>\n",
       "    <tr>\n",
       "      <th>811517</th>\n",
       "      <td>821837</td>\n",
       "      <td>821837</td>\n",
       "      <td>Kerala</td>\n",
       "      <td>Trivandrum</td>\n",
       "      <td>Fish</td>\n",
       "      <td>Pomphret</td>\n",
       "      <td>Kg.</td>\n",
       "      <td>Food</td>\n",
       "      <td>MAR-2021</td>\n",
       "      <td>650.000000</td>\n",
       "    </tr>\n",
       "  </tbody>\n",
       "</table>\n",
       "<p>729 rows × 10 columns</p>\n",
       "</div>"
      ],
      "text/plain": [
       "        Unnamed: 0  Unnamed: 0.1   State      Centre Commodity   Variety Unit  \\\n",
       "618637      627505        627505  Kerala   Ernakulam      Fish  Pomphret  Kg.   \n",
       "618640      627508        627508  Kerala  Khozhikode      Fish  Pomphret  Kg.   \n",
       "618643      627511        627511  Kerala  Trivandrum      Fish  Pomphret  Kg.   \n",
       "619434      628308        628308  Kerala   Ernakulam      Fish  Pomphret  Kg.   \n",
       "619437      628311        628311  Kerala  Khozhikode      Fish  Pomphret  Kg.   \n",
       "...            ...           ...     ...         ...       ...       ...  ...   \n",
       "810717      821031        821031  Kerala  Khozhikode      Fish  Pomphret  Kg.   \n",
       "810720      821034        821034  Kerala  Trivandrum      Fish  Pomphret  Kg.   \n",
       "811511      821831        821831  Kerala   Ernakulam      Fish  Pomphret  Kg.   \n",
       "811514      821834        821834  Kerala  Khozhikode      Fish  Pomphret  Kg.   \n",
       "811517      821837        821837  Kerala  Trivandrum      Fish  Pomphret  Kg.   \n",
       "\n",
       "       Category      Date  Retail Price  \n",
       "618637     Food  JAN-2001     58.562500  \n",
       "618640     Food  JAN-2001     58.562500  \n",
       "618643     Food  JAN-2001     58.562500  \n",
       "619434     Food  FEB-2001     58.937500  \n",
       "619437     Food  FEB-2001     58.937500  \n",
       "...         ...       ...           ...  \n",
       "810717     Food  FEB-2021    500.000000  \n",
       "810720     Food  FEB-2021    650.000000  \n",
       "811511     Food  MAR-2021    316.901961  \n",
       "811514     Food  MAR-2021    500.000000  \n",
       "811517     Food  MAR-2021    650.000000  \n",
       "\n",
       "[729 rows x 10 columns]"
      ]
     },
     "execution_count": 30,
     "metadata": {},
     "output_type": "execute_result"
    }
   ],
   "source": [
    "df[(df[\"Commodity\"]==\"Fish\")&(df[\"Variety\"]==\"Pomphret\")&(df[\"State\"]==\"Kerala\")]"
   ]
  },
  {
   "cell_type": "code",
   "execution_count": 31,
   "id": "05aa524e",
   "metadata": {},
   "outputs": [
    {
     "data": {
      "text/plain": [
       "20.0"
      ]
     },
     "execution_count": 31,
     "metadata": {},
     "output_type": "execute_result"
    }
   ],
   "source": [
    "df[(df[\"Commodity\"]==\"Fish\")&(df[\"Variety\"]==\"Pomphret\")&(df[\"State\"]==\"Kerala\")][\"Retail Price\"].min()"
   ]
  },
  {
   "cell_type": "code",
   "execution_count": 32,
   "id": "910efeaf",
   "metadata": {},
   "outputs": [
    {
     "data": {
      "text/html": [
       "<div>\n",
       "<style scoped>\n",
       "    .dataframe tbody tr th:only-of-type {\n",
       "        vertical-align: middle;\n",
       "    }\n",
       "\n",
       "    .dataframe tbody tr th {\n",
       "        vertical-align: top;\n",
       "    }\n",
       "\n",
       "    .dataframe thead th {\n",
       "        text-align: right;\n",
       "    }\n",
       "</style>\n",
       "<table border=\"1\" class=\"dataframe\">\n",
       "  <thead>\n",
       "    <tr style=\"text-align: right;\">\n",
       "      <th></th>\n",
       "      <th>Unnamed: 0</th>\n",
       "      <th>Unnamed: 0.1</th>\n",
       "      <th>State</th>\n",
       "      <th>Centre</th>\n",
       "      <th>Commodity</th>\n",
       "      <th>Variety</th>\n",
       "      <th>Unit</th>\n",
       "      <th>Category</th>\n",
       "      <th>Date</th>\n",
       "      <th>Retail Price</th>\n",
       "    </tr>\n",
       "  </thead>\n",
       "  <tbody>\n",
       "    <tr>\n",
       "      <th>636971</th>\n",
       "      <td>645977</td>\n",
       "      <td>645977</td>\n",
       "      <td>Kerala</td>\n",
       "      <td>Khozhikode</td>\n",
       "      <td>Fish</td>\n",
       "      <td>Pomphret</td>\n",
       "      <td>Kg.</td>\n",
       "      <td>Food</td>\n",
       "      <td>DEC-2002</td>\n",
       "      <td>20.0</td>\n",
       "    </tr>\n",
       "    <tr>\n",
       "      <th>638565</th>\n",
       "      <td>647583</td>\n",
       "      <td>647583</td>\n",
       "      <td>Kerala</td>\n",
       "      <td>Khozhikode</td>\n",
       "      <td>Fish</td>\n",
       "      <td>Pomphret</td>\n",
       "      <td>Kg.</td>\n",
       "      <td>Food</td>\n",
       "      <td>FEB-2003</td>\n",
       "      <td>20.0</td>\n",
       "    </tr>\n",
       "    <tr>\n",
       "      <th>662475</th>\n",
       "      <td>671673</td>\n",
       "      <td>671673</td>\n",
       "      <td>Kerala</td>\n",
       "      <td>Khozhikode</td>\n",
       "      <td>Fish</td>\n",
       "      <td>Pomphret</td>\n",
       "      <td>Kg.</td>\n",
       "      <td>Food</td>\n",
       "      <td>AUG-2005</td>\n",
       "      <td>20.0</td>\n",
       "    </tr>\n",
       "  </tbody>\n",
       "</table>\n",
       "</div>"
      ],
      "text/plain": [
       "        Unnamed: 0  Unnamed: 0.1   State      Centre Commodity   Variety Unit  \\\n",
       "636971      645977        645977  Kerala  Khozhikode      Fish  Pomphret  Kg.   \n",
       "638565      647583        647583  Kerala  Khozhikode      Fish  Pomphret  Kg.   \n",
       "662475      671673        671673  Kerala  Khozhikode      Fish  Pomphret  Kg.   \n",
       "\n",
       "       Category      Date  Retail Price  \n",
       "636971     Food  DEC-2002          20.0  \n",
       "638565     Food  FEB-2003          20.0  \n",
       "662475     Food  AUG-2005          20.0  "
      ]
     },
     "execution_count": 32,
     "metadata": {},
     "output_type": "execute_result"
    }
   ],
   "source": [
    "df[(df[\"Commodity\"]==\"Fish\")&(df[\"Variety\"]==\"Pomphret\")&(df[\"State\"]==\"Kerala\")&(df[\"Retail Price\"]==20)]"
   ]
  },
  {
   "cell_type": "code",
   "execution_count": 33,
   "id": "b7a51e46",
   "metadata": {},
   "outputs": [
    {
     "data": {
      "text/plain": [
       "780.0"
      ]
     },
     "execution_count": 33,
     "metadata": {},
     "output_type": "execute_result"
    }
   ],
   "source": [
    "df[(df[\"Commodity\"]==\"Fish\")&(df[\"Variety\"]==\"Pomphret\")&(df[\"State\"]==\"Kerala\")][\"Retail Price\"].max()"
   ]
  },
  {
   "cell_type": "code",
   "execution_count": 34,
   "id": "aea9798a",
   "metadata": {},
   "outputs": [
    {
     "data": {
      "text/html": [
       "<div>\n",
       "<style scoped>\n",
       "    .dataframe tbody tr th:only-of-type {\n",
       "        vertical-align: middle;\n",
       "    }\n",
       "\n",
       "    .dataframe tbody tr th {\n",
       "        vertical-align: top;\n",
       "    }\n",
       "\n",
       "    .dataframe thead th {\n",
       "        text-align: right;\n",
       "    }\n",
       "</style>\n",
       "<table border=\"1\" class=\"dataframe\">\n",
       "  <thead>\n",
       "    <tr style=\"text-align: right;\">\n",
       "      <th></th>\n",
       "      <th>Unnamed: 0</th>\n",
       "      <th>Unnamed: 0.1</th>\n",
       "      <th>State</th>\n",
       "      <th>Centre</th>\n",
       "      <th>Commodity</th>\n",
       "      <th>Variety</th>\n",
       "      <th>Unit</th>\n",
       "      <th>Category</th>\n",
       "      <th>Date</th>\n",
       "      <th>Retail Price</th>\n",
       "    </tr>\n",
       "  </thead>\n",
       "  <tbody>\n",
       "    <tr>\n",
       "      <th>793983</th>\n",
       "      <td>804171</td>\n",
       "      <td>804171</td>\n",
       "      <td>Kerala</td>\n",
       "      <td>Trivandrum</td>\n",
       "      <td>Fish</td>\n",
       "      <td>Pomphret</td>\n",
       "      <td>Kg.</td>\n",
       "      <td>Food</td>\n",
       "      <td>MAY-2019</td>\n",
       "      <td>780.0</td>\n",
       "    </tr>\n",
       "  </tbody>\n",
       "</table>\n",
       "</div>"
      ],
      "text/plain": [
       "        Unnamed: 0  Unnamed: 0.1   State      Centre Commodity   Variety Unit  \\\n",
       "793983      804171        804171  Kerala  Trivandrum      Fish  Pomphret  Kg.   \n",
       "\n",
       "       Category      Date  Retail Price  \n",
       "793983     Food  MAY-2019         780.0  "
      ]
     },
     "execution_count": 34,
     "metadata": {},
     "output_type": "execute_result"
    }
   ],
   "source": [
    "df[(df[\"Commodity\"]==\"Fish\")&(df[\"Variety\"]==\"Pomphret\")&(df[\"State\"]==\"Kerala\")&(df[\"Retail Price\"]==780)]"
   ]
  },
  {
   "cell_type": "code",
   "execution_count": 13,
   "id": "b571c8f8",
   "metadata": {},
   "outputs": [
    {
     "data": {
      "text/plain": [
       "220.8477992027327"
      ]
     },
     "execution_count": 13,
     "metadata": {},
     "output_type": "execute_result"
    }
   ],
   "source": [
    "df[(df[\"Commodity\"]==\"Fish\")&(df[\"Variety\"]==\"Pomphret\")&(df[\"State\"]==\"Kerala\")][\"Retail Price\"].mean()"
   ]
  },
  {
   "cell_type": "markdown",
   "id": "5ed29df2",
   "metadata": {},
   "source": [
    "# 8. How many states has meat as commodity?"
   ]
  },
  {
   "cell_type": "code",
   "execution_count": 14,
   "id": "d237c72e",
   "metadata": {},
   "outputs": [
    {
     "data": {
      "text/plain": [
       "array(['Andhra Pradesh', 'Arunachal Pradesh', 'Assam', 'Bihar', 'Goa',\n",
       "       'Gujarat', 'Haryana', 'Himachal Pradesh', 'Jammu Kashmir',\n",
       "       'Jharkhand', 'Karnataka', 'Kerala', 'Madhya Pradesh',\n",
       "       'Maharashtra', 'Manipur', 'Meghalaya', 'Mizoram', 'Nagaland',\n",
       "       'National Capital', 'Orissa', 'Punjab', 'Rajasthan', 'Sikkim',\n",
       "       'Tamil Nadu', 'Telangana', 'Tripura', 'Union Territories',\n",
       "       'Uttar Pradesh', 'Uttarakhand', 'West Bengal'], dtype=object)"
      ]
     },
     "execution_count": 14,
     "metadata": {},
     "output_type": "execute_result"
    }
   ],
   "source": [
    "df[(df[\"Commodity\"]==\"Meat\")][\"State\"].unique()"
   ]
  },
  {
   "cell_type": "code",
   "execution_count": 15,
   "id": "f519adf8",
   "metadata": {},
   "outputs": [
    {
     "data": {
      "text/plain": [
       "array(['Andhra Pradesh', 'Arunachal Pradesh', 'Assam', 'Bihar', 'Goa',\n",
       "       'Gujarat', 'Haryana', 'Himachal Pradesh', 'Jammu Kashmir',\n",
       "       'Jharkhand', 'Karnataka', 'Kerala', 'Madhya Pradesh',\n",
       "       'Maharashtra', 'Manipur', 'Meghalaya', 'Mizoram', 'Nagaland',\n",
       "       'National Capital', 'Orissa', 'Punjab', 'Rajasthan', 'Sikkim',\n",
       "       'Tamil Nadu', 'Telangana', 'Tripura', 'Union Territories',\n",
       "       'Uttar Pradesh', 'Uttarakhand', 'West Bengal'], dtype=object)"
      ]
     },
     "execution_count": 15,
     "metadata": {},
     "output_type": "execute_result"
    }
   ],
   "source": [
    "df[(df[\"Commodity\"]==\"Meat\")][\"State\"].unique()"
   ]
  },
  {
   "cell_type": "markdown",
   "id": "7ccf20a7",
   "metadata": {},
   "source": [
    "# 9. How many types of variety of meat?"
   ]
  },
  {
   "cell_type": "code",
   "execution_count": 16,
   "id": "6ea21c10",
   "metadata": {},
   "outputs": [
    {
     "data": {
      "text/plain": [
       "array(['Mutton'], dtype=object)"
      ]
     },
     "execution_count": 16,
     "metadata": {},
     "output_type": "execute_result"
    }
   ],
   "source": [
    "df[(df[\"Commodity\"]==\"Meat\")][\"Variety\"].unique()"
   ]
  },
  {
   "cell_type": "markdown",
   "id": "4bfafaaa",
   "metadata": {},
   "source": [
    "# 10. Which district has the highest price of rice in Maharastra?"
   ]
  },
  {
   "cell_type": "code",
   "execution_count": 17,
   "id": "bd2d5a2b",
   "metadata": {},
   "outputs": [
    {
     "data": {
      "text/plain": [
       "122.0"
      ]
     },
     "execution_count": 17,
     "metadata": {},
     "output_type": "execute_result"
    }
   ],
   "source": [
    "df[(df[\"Commodity\"]==\"Rice\")&(df[\"State\"]==\"Maharashtra\")][\"Retail Price\"].max()"
   ]
  },
  {
   "cell_type": "code",
   "execution_count": 18,
   "id": "41f5b1b9",
   "metadata": {},
   "outputs": [
    {
     "data": {
      "text/html": [
       "<div>\n",
       "<style scoped>\n",
       "    .dataframe tbody tr th:only-of-type {\n",
       "        vertical-align: middle;\n",
       "    }\n",
       "\n",
       "    .dataframe tbody tr th {\n",
       "        vertical-align: top;\n",
       "    }\n",
       "\n",
       "    .dataframe thead th {\n",
       "        text-align: right;\n",
       "    }\n",
       "</style>\n",
       "<table border=\"1\" class=\"dataframe\">\n",
       "  <thead>\n",
       "    <tr style=\"text-align: right;\">\n",
       "      <th></th>\n",
       "      <th>Unnamed: 0</th>\n",
       "      <th>Unnamed: 0.1</th>\n",
       "      <th>State</th>\n",
       "      <th>Centre</th>\n",
       "      <th>Commodity</th>\n",
       "      <th>Variety</th>\n",
       "      <th>Unit</th>\n",
       "      <th>Category</th>\n",
       "      <th>Date</th>\n",
       "      <th>Retail Price</th>\n",
       "    </tr>\n",
       "  </thead>\n",
       "  <tbody>\n",
       "    <tr>\n",
       "      <th>255828</th>\n",
       "      <td>257884</td>\n",
       "      <td>257884</td>\n",
       "      <td>Maharashtra</td>\n",
       "      <td>Aurangabad</td>\n",
       "      <td>Rice</td>\n",
       "      <td>Superfine</td>\n",
       "      <td>Kg.</td>\n",
       "      <td>Food</td>\n",
       "      <td>FEB-2018</td>\n",
       "      <td>122.0</td>\n",
       "    </tr>\n",
       "  </tbody>\n",
       "</table>\n",
       "</div>"
      ],
      "text/plain": [
       "        Unnamed: 0  Unnamed: 0.1        State      Centre Commodity  \\\n",
       "255828      257884        257884  Maharashtra  Aurangabad      Rice   \n",
       "\n",
       "          Variety Unit Category      Date  Retail Price  \n",
       "255828  Superfine  Kg.     Food  FEB-2018         122.0  "
      ]
     },
     "execution_count": 18,
     "metadata": {},
     "output_type": "execute_result"
    }
   ],
   "source": [
    "df[(df[\"Commodity\"]==\"Rice\") & (df[\"Retail Price\"]==122)]"
   ]
  },
  {
   "cell_type": "code",
   "execution_count": null,
   "id": "8bb5af7e",
   "metadata": {},
   "outputs": [],
   "source": []
  },
  {
   "cell_type": "markdown",
   "id": "642fa453",
   "metadata": {},
   "source": [
    "# 11. What is the price difference between desi wheat and Kalyan HYV statewise?"
   ]
  },
  {
   "cell_type": "code",
   "execution_count": 19,
   "id": "41eed1e5",
   "metadata": {},
   "outputs": [
    {
     "data": {
      "text/plain": [
       "array(['Desi', 'Kalyan HYV'], dtype=object)"
      ]
     },
     "execution_count": 19,
     "metadata": {},
     "output_type": "execute_result"
    }
   ],
   "source": [
    "df[(df[\"Commodity\"]==\"Wheat\")][\"Variety\"].unique()"
   ]
  },
  {
   "cell_type": "code",
   "execution_count": 20,
   "id": "43c7a2aa",
   "metadata": {},
   "outputs": [
    {
     "data": {
      "text/plain": [
       "44.0"
      ]
     },
     "execution_count": 20,
     "metadata": {},
     "output_type": "execute_result"
    }
   ],
   "source": [
    "df[(df[\"Commodity\"]==\"Wheat\")&(df[\"State\"]==\"Kerala\")&(df[\"Variety\"]==\"Desi\")][\"Retail Price\"].max()"
   ]
  },
  {
   "cell_type": "code",
   "execution_count": 21,
   "id": "14f34ffd",
   "metadata": {},
   "outputs": [
    {
     "data": {
      "text/plain": [
       "36.0"
      ]
     },
     "execution_count": 21,
     "metadata": {},
     "output_type": "execute_result"
    }
   ],
   "source": [
    "df[(df[\"Commodity\"]==\"Wheat\")&(df[\"State\"]==\"Kerala\")&(df[\"Variety\"]==\"Kalyan HYV\")][\"Retail Price\"].max()"
   ]
  },
  {
   "cell_type": "code",
   "execution_count": null,
   "id": "8cf7ff5c",
   "metadata": {},
   "outputs": [],
   "source": []
  },
  {
   "cell_type": "markdown",
   "id": "e445a3e1",
   "metadata": {},
   "source": [
    "# 12. How many variety of coffee is available and what is their price difference yearwise?"
   ]
  },
  {
   "cell_type": "code",
   "execution_count": 37,
   "id": "8e79fe30",
   "metadata": {},
   "outputs": [
    {
     "data": {
      "text/plain": [
       "466.4432833262676"
      ]
     },
     "execution_count": 37,
     "metadata": {},
     "output_type": "execute_result"
    }
   ],
   "source": [
    "df[(df[\"Commodity\"]==\"Coffee\")&(df[\"Variety\"]==\"Powdered\")][\"Retail Price\"].mean()"
   ]
  },
  {
   "cell_type": "code",
   "execution_count": 38,
   "id": "57eec1aa",
   "metadata": {},
   "outputs": [],
   "source": [
    "df[['Month','Year']] = df.Date.str.split(\"-\",expand=True)"
   ]
  },
  {
   "cell_type": "code",
   "execution_count": 39,
   "id": "5c3104c1",
   "metadata": {},
   "outputs": [
    {
     "data": {
      "text/html": [
       "<div>\n",
       "<style scoped>\n",
       "    .dataframe tbody tr th:only-of-type {\n",
       "        vertical-align: middle;\n",
       "    }\n",
       "\n",
       "    .dataframe tbody tr th {\n",
       "        vertical-align: top;\n",
       "    }\n",
       "\n",
       "    .dataframe thead th {\n",
       "        text-align: right;\n",
       "    }\n",
       "</style>\n",
       "<table border=\"1\" class=\"dataframe\">\n",
       "  <thead>\n",
       "    <tr style=\"text-align: right;\">\n",
       "      <th></th>\n",
       "      <th>Unnamed: 0</th>\n",
       "      <th>Unnamed: 0.1</th>\n",
       "      <th>State</th>\n",
       "      <th>Centre</th>\n",
       "      <th>Commodity</th>\n",
       "      <th>Variety</th>\n",
       "      <th>Unit</th>\n",
       "      <th>Category</th>\n",
       "      <th>Date</th>\n",
       "      <th>Retail Price</th>\n",
       "      <th>Month</th>\n",
       "      <th>Year</th>\n",
       "    </tr>\n",
       "  </thead>\n",
       "  <tbody>\n",
       "    <tr>\n",
       "      <th>0</th>\n",
       "      <td>0</td>\n",
       "      <td>0</td>\n",
       "      <td>Andhra Pradesh</td>\n",
       "      <td>Chittoor</td>\n",
       "      <td>Moong</td>\n",
       "      <td>Split</td>\n",
       "      <td>Kg.</td>\n",
       "      <td>Food</td>\n",
       "      <td>JAN-2001</td>\n",
       "      <td>24.00000</td>\n",
       "      <td>JAN</td>\n",
       "      <td>2001</td>\n",
       "    </tr>\n",
       "    <tr>\n",
       "      <th>1</th>\n",
       "      <td>1</td>\n",
       "      <td>1</td>\n",
       "      <td>Andhra Pradesh</td>\n",
       "      <td>Guntur</td>\n",
       "      <td>Moong</td>\n",
       "      <td>Split</td>\n",
       "      <td>Kg.</td>\n",
       "      <td>Food</td>\n",
       "      <td>JAN-2001</td>\n",
       "      <td>26.00000</td>\n",
       "      <td>JAN</td>\n",
       "      <td>2001</td>\n",
       "    </tr>\n",
       "    <tr>\n",
       "      <th>2</th>\n",
       "      <td>2</td>\n",
       "      <td>2</td>\n",
       "      <td>Andhra Pradesh</td>\n",
       "      <td>Kurnool</td>\n",
       "      <td>Moong</td>\n",
       "      <td>Split</td>\n",
       "      <td>Kg.</td>\n",
       "      <td>Food</td>\n",
       "      <td>JAN-2001</td>\n",
       "      <td>25.50000</td>\n",
       "      <td>JAN</td>\n",
       "      <td>2001</td>\n",
       "    </tr>\n",
       "    <tr>\n",
       "      <th>3</th>\n",
       "      <td>3</td>\n",
       "      <td>3</td>\n",
       "      <td>Andhra Pradesh</td>\n",
       "      <td>Vishakhapatnam</td>\n",
       "      <td>Moong</td>\n",
       "      <td>Split</td>\n",
       "      <td>Kg.</td>\n",
       "      <td>Food</td>\n",
       "      <td>JAN-2001</td>\n",
       "      <td>28.32000</td>\n",
       "      <td>JAN</td>\n",
       "      <td>2001</td>\n",
       "    </tr>\n",
       "    <tr>\n",
       "      <th>4</th>\n",
       "      <td>4</td>\n",
       "      <td>4</td>\n",
       "      <td>Arunachal Pradesh</td>\n",
       "      <td>Itanagar</td>\n",
       "      <td>Moong</td>\n",
       "      <td>Split</td>\n",
       "      <td>Kg.</td>\n",
       "      <td>Food</td>\n",
       "      <td>JAN-2001</td>\n",
       "      <td>28.32000</td>\n",
       "      <td>JAN</td>\n",
       "      <td>2001</td>\n",
       "    </tr>\n",
       "    <tr>\n",
       "      <th>...</th>\n",
       "      <td>...</td>\n",
       "      <td>...</td>\n",
       "      <td>...</td>\n",
       "      <td>...</td>\n",
       "      <td>...</td>\n",
       "      <td>...</td>\n",
       "      <td>...</td>\n",
       "      <td>...</td>\n",
       "      <td>...</td>\n",
       "      <td>...</td>\n",
       "      <td>...</td>\n",
       "      <td>...</td>\n",
       "    </tr>\n",
       "    <tr>\n",
       "      <th>1134445</th>\n",
       "      <td>1147441</td>\n",
       "      <td>1147441</td>\n",
       "      <td>West Bengal</td>\n",
       "      <td>Jalpaiguri</td>\n",
       "      <td>Wheat</td>\n",
       "      <td>Kalyan HYV</td>\n",
       "      <td>Kg.</td>\n",
       "      <td>Food</td>\n",
       "      <td>MAR-2021</td>\n",
       "      <td>29.30198</td>\n",
       "      <td>MAR</td>\n",
       "      <td>2021</td>\n",
       "    </tr>\n",
       "    <tr>\n",
       "      <th>1134446</th>\n",
       "      <td>1147442</td>\n",
       "      <td>1147442</td>\n",
       "      <td>West Bengal</td>\n",
       "      <td>Kolkata</td>\n",
       "      <td>Wheat</td>\n",
       "      <td>Desi</td>\n",
       "      <td>Kg.</td>\n",
       "      <td>Food</td>\n",
       "      <td>MAR-2021</td>\n",
       "      <td>29.30198</td>\n",
       "      <td>MAR</td>\n",
       "      <td>2021</td>\n",
       "    </tr>\n",
       "    <tr>\n",
       "      <th>1134447</th>\n",
       "      <td>1147443</td>\n",
       "      <td>1147443</td>\n",
       "      <td>West Bengal</td>\n",
       "      <td>Kolkata</td>\n",
       "      <td>Wheat</td>\n",
       "      <td>Kalyan HYV</td>\n",
       "      <td>Kg.</td>\n",
       "      <td>Food</td>\n",
       "      <td>MAR-2021</td>\n",
       "      <td>29.30198</td>\n",
       "      <td>MAR</td>\n",
       "      <td>2021</td>\n",
       "    </tr>\n",
       "    <tr>\n",
       "      <th>1134448</th>\n",
       "      <td>1147444</td>\n",
       "      <td>1147444</td>\n",
       "      <td>West Bengal</td>\n",
       "      <td>Malda</td>\n",
       "      <td>Wheat</td>\n",
       "      <td>Desi</td>\n",
       "      <td>Kg.</td>\n",
       "      <td>Food</td>\n",
       "      <td>MAR-2021</td>\n",
       "      <td>20.00000</td>\n",
       "      <td>MAR</td>\n",
       "      <td>2021</td>\n",
       "    </tr>\n",
       "    <tr>\n",
       "      <th>1134449</th>\n",
       "      <td>1147445</td>\n",
       "      <td>1147445</td>\n",
       "      <td>West Bengal</td>\n",
       "      <td>Malda</td>\n",
       "      <td>Wheat</td>\n",
       "      <td>Kalyan HYV</td>\n",
       "      <td>Kg.</td>\n",
       "      <td>Food</td>\n",
       "      <td>MAR-2021</td>\n",
       "      <td>29.30198</td>\n",
       "      <td>MAR</td>\n",
       "      <td>2021</td>\n",
       "    </tr>\n",
       "  </tbody>\n",
       "</table>\n",
       "<p>1134450 rows × 12 columns</p>\n",
       "</div>"
      ],
      "text/plain": [
       "         Unnamed: 0  Unnamed: 0.1              State          Centre  \\\n",
       "0                 0             0     Andhra Pradesh        Chittoor   \n",
       "1                 1             1     Andhra Pradesh          Guntur   \n",
       "2                 2             2     Andhra Pradesh         Kurnool   \n",
       "3                 3             3     Andhra Pradesh  Vishakhapatnam   \n",
       "4                 4             4  Arunachal Pradesh        Itanagar   \n",
       "...             ...           ...                ...             ...   \n",
       "1134445     1147441       1147441        West Bengal      Jalpaiguri   \n",
       "1134446     1147442       1147442        West Bengal         Kolkata   \n",
       "1134447     1147443       1147443        West Bengal         Kolkata   \n",
       "1134448     1147444       1147444        West Bengal           Malda   \n",
       "1134449     1147445       1147445        West Bengal           Malda   \n",
       "\n",
       "        Commodity     Variety Unit Category      Date  Retail Price Month  \\\n",
       "0           Moong       Split  Kg.     Food  JAN-2001      24.00000   JAN   \n",
       "1           Moong       Split  Kg.     Food  JAN-2001      26.00000   JAN   \n",
       "2           Moong       Split  Kg.     Food  JAN-2001      25.50000   JAN   \n",
       "3           Moong       Split  Kg.     Food  JAN-2001      28.32000   JAN   \n",
       "4           Moong       Split  Kg.     Food  JAN-2001      28.32000   JAN   \n",
       "...           ...         ...  ...      ...       ...           ...   ...   \n",
       "1134445     Wheat  Kalyan HYV  Kg.     Food  MAR-2021      29.30198   MAR   \n",
       "1134446     Wheat        Desi  Kg.     Food  MAR-2021      29.30198   MAR   \n",
       "1134447     Wheat  Kalyan HYV  Kg.     Food  MAR-2021      29.30198   MAR   \n",
       "1134448     Wheat        Desi  Kg.     Food  MAR-2021      20.00000   MAR   \n",
       "1134449     Wheat  Kalyan HYV  Kg.     Food  MAR-2021      29.30198   MAR   \n",
       "\n",
       "         Year  \n",
       "0        2001  \n",
       "1        2001  \n",
       "2        2001  \n",
       "3        2001  \n",
       "4        2001  \n",
       "...       ...  \n",
       "1134445  2021  \n",
       "1134446  2021  \n",
       "1134447  2021  \n",
       "1134448  2021  \n",
       "1134449  2021  \n",
       "\n",
       "[1134450 rows x 12 columns]"
      ]
     },
     "execution_count": 39,
     "metadata": {},
     "output_type": "execute_result"
    }
   ],
   "source": [
    "df"
   ]
  },
  {
   "cell_type": "code",
   "execution_count": 41,
   "id": "20b8f92d",
   "metadata": {},
   "outputs": [
    {
     "data": {
      "text/plain": [
       "array(['2001', '2002', '2003', '2004', '2005', '2006', '2007', '2008',\n",
       "       '2009', '2010', '2011', '2012', '2013', '2014', '2015', '2016',\n",
       "       '2017', '2018', '2019', '2020', '2021'], dtype=object)"
      ]
     },
     "execution_count": 41,
     "metadata": {},
     "output_type": "execute_result"
    }
   ],
   "source": [
    "df[(df[\"Commodity\"]==\"Coffee\")&(df[\"Variety\"]==\"Instant\")][\"Year\"].unique()"
   ]
  },
  {
   "cell_type": "code",
   "execution_count": 42,
   "id": "909e2eeb",
   "metadata": {},
   "outputs": [
    {
     "data": {
      "text/plain": [
       "nan"
      ]
     },
     "execution_count": 42,
     "metadata": {},
     "output_type": "execute_result"
    }
   ],
   "source": [
    "df[(df[\"Commodity\"]==\"Coffee\")&(df[\"Variety\"]==\"Instant\")&(df[\"Year\"]==2001)][\"Retail Price\"].mean()"
   ]
  },
  {
   "cell_type": "code",
   "execution_count": 44,
   "id": "d0cb53d3",
   "metadata": {},
   "outputs": [],
   "source": [
    "df['Year'] = df['Year'].astype(int)"
   ]
  },
  {
   "cell_type": "code",
   "execution_count": 45,
   "id": "bff6b6a4",
   "metadata": {},
   "outputs": [
    {
     "data": {
      "text/html": [
       "<div>\n",
       "<style scoped>\n",
       "    .dataframe tbody tr th:only-of-type {\n",
       "        vertical-align: middle;\n",
       "    }\n",
       "\n",
       "    .dataframe tbody tr th {\n",
       "        vertical-align: top;\n",
       "    }\n",
       "\n",
       "    .dataframe thead th {\n",
       "        text-align: right;\n",
       "    }\n",
       "</style>\n",
       "<table border=\"1\" class=\"dataframe\">\n",
       "  <thead>\n",
       "    <tr style=\"text-align: right;\">\n",
       "      <th></th>\n",
       "      <th>Unnamed: 0</th>\n",
       "      <th>Unnamed: 0.1</th>\n",
       "      <th>State</th>\n",
       "      <th>Centre</th>\n",
       "      <th>Commodity</th>\n",
       "      <th>Variety</th>\n",
       "      <th>Unit</th>\n",
       "      <th>Category</th>\n",
       "      <th>Date</th>\n",
       "      <th>Retail Price</th>\n",
       "      <th>Month</th>\n",
       "      <th>Year</th>\n",
       "    </tr>\n",
       "  </thead>\n",
       "  <tbody>\n",
       "    <tr>\n",
       "      <th>812660</th>\n",
       "      <td>822990</td>\n",
       "      <td>822990</td>\n",
       "      <td>Andhra Pradesh</td>\n",
       "      <td>Chittoor</td>\n",
       "      <td>Coffee</td>\n",
       "      <td>Instant</td>\n",
       "      <td>500gm. Pkt</td>\n",
       "      <td>Food</td>\n",
       "      <td>JAN-2001</td>\n",
       "      <td>137.375000</td>\n",
       "      <td>JAN</td>\n",
       "      <td>2001</td>\n",
       "    </tr>\n",
       "    <tr>\n",
       "      <th>812662</th>\n",
       "      <td>822992</td>\n",
       "      <td>822992</td>\n",
       "      <td>Andhra Pradesh</td>\n",
       "      <td>Guntur</td>\n",
       "      <td>Coffee</td>\n",
       "      <td>Instant</td>\n",
       "      <td>500gm. Pkt</td>\n",
       "      <td>Food</td>\n",
       "      <td>JAN-2001</td>\n",
       "      <td>137.375000</td>\n",
       "      <td>JAN</td>\n",
       "      <td>2001</td>\n",
       "    </tr>\n",
       "    <tr>\n",
       "      <th>812664</th>\n",
       "      <td>822994</td>\n",
       "      <td>822994</td>\n",
       "      <td>Andhra Pradesh</td>\n",
       "      <td>Kurnool</td>\n",
       "      <td>Coffee</td>\n",
       "      <td>Instant</td>\n",
       "      <td>500gm. Pkt</td>\n",
       "      <td>Food</td>\n",
       "      <td>JAN-2001</td>\n",
       "      <td>137.375000</td>\n",
       "      <td>JAN</td>\n",
       "      <td>2001</td>\n",
       "    </tr>\n",
       "    <tr>\n",
       "      <th>812666</th>\n",
       "      <td>822996</td>\n",
       "      <td>822996</td>\n",
       "      <td>Andhra Pradesh</td>\n",
       "      <td>Vishakhapatnam</td>\n",
       "      <td>Coffee</td>\n",
       "      <td>Instant</td>\n",
       "      <td>500gm. Pkt</td>\n",
       "      <td>Food</td>\n",
       "      <td>JAN-2001</td>\n",
       "      <td>137.375000</td>\n",
       "      <td>JAN</td>\n",
       "      <td>2001</td>\n",
       "    </tr>\n",
       "    <tr>\n",
       "      <th>812668</th>\n",
       "      <td>822998</td>\n",
       "      <td>822998</td>\n",
       "      <td>Arunachal Pradesh</td>\n",
       "      <td>Itanagar</td>\n",
       "      <td>Coffee</td>\n",
       "      <td>Instant</td>\n",
       "      <td>500gm. Pkt</td>\n",
       "      <td>Food</td>\n",
       "      <td>JAN-2001</td>\n",
       "      <td>137.375000</td>\n",
       "      <td>JAN</td>\n",
       "      <td>2001</td>\n",
       "    </tr>\n",
       "    <tr>\n",
       "      <th>...</th>\n",
       "      <td>...</td>\n",
       "      <td>...</td>\n",
       "      <td>...</td>\n",
       "      <td>...</td>\n",
       "      <td>...</td>\n",
       "      <td>...</td>\n",
       "      <td>...</td>\n",
       "      <td>...</td>\n",
       "      <td>...</td>\n",
       "      <td>...</td>\n",
       "      <td>...</td>\n",
       "      <td>...</td>\n",
       "    </tr>\n",
       "    <tr>\n",
       "      <th>821879</th>\n",
       "      <td>832286</td>\n",
       "      <td>832286</td>\n",
       "      <td>West Bengal</td>\n",
       "      <td>Asansol</td>\n",
       "      <td>Coffee</td>\n",
       "      <td>Instant</td>\n",
       "      <td>500gm. Pkt</td>\n",
       "      <td>Food</td>\n",
       "      <td>DEC-2001</td>\n",
       "      <td>137.545455</td>\n",
       "      <td>DEC</td>\n",
       "      <td>2001</td>\n",
       "    </tr>\n",
       "    <tr>\n",
       "      <th>821881</th>\n",
       "      <td>832288</td>\n",
       "      <td>832288</td>\n",
       "      <td>West Bengal</td>\n",
       "      <td>Howrah</td>\n",
       "      <td>Coffee</td>\n",
       "      <td>Instant</td>\n",
       "      <td>500gm. Pkt</td>\n",
       "      <td>Food</td>\n",
       "      <td>DEC-2001</td>\n",
       "      <td>137.545455</td>\n",
       "      <td>DEC</td>\n",
       "      <td>2001</td>\n",
       "    </tr>\n",
       "    <tr>\n",
       "      <th>821883</th>\n",
       "      <td>832290</td>\n",
       "      <td>832290</td>\n",
       "      <td>West Bengal</td>\n",
       "      <td>Jalpaiguri</td>\n",
       "      <td>Coffee</td>\n",
       "      <td>Instant</td>\n",
       "      <td>500gm. Pkt</td>\n",
       "      <td>Food</td>\n",
       "      <td>DEC-2001</td>\n",
       "      <td>137.545455</td>\n",
       "      <td>DEC</td>\n",
       "      <td>2001</td>\n",
       "    </tr>\n",
       "    <tr>\n",
       "      <th>821885</th>\n",
       "      <td>832292</td>\n",
       "      <td>832292</td>\n",
       "      <td>West Bengal</td>\n",
       "      <td>Kolkata</td>\n",
       "      <td>Coffee</td>\n",
       "      <td>Instant</td>\n",
       "      <td>500gm. Pkt</td>\n",
       "      <td>Food</td>\n",
       "      <td>DEC-2001</td>\n",
       "      <td>137.545455</td>\n",
       "      <td>DEC</td>\n",
       "      <td>2001</td>\n",
       "    </tr>\n",
       "    <tr>\n",
       "      <th>821887</th>\n",
       "      <td>832294</td>\n",
       "      <td>832294</td>\n",
       "      <td>West Bengal</td>\n",
       "      <td>Malda</td>\n",
       "      <td>Coffee</td>\n",
       "      <td>Instant</td>\n",
       "      <td>500gm. Pkt</td>\n",
       "      <td>Food</td>\n",
       "      <td>DEC-2001</td>\n",
       "      <td>137.545455</td>\n",
       "      <td>DEC</td>\n",
       "      <td>2001</td>\n",
       "    </tr>\n",
       "  </tbody>\n",
       "</table>\n",
       "<p>972 rows × 12 columns</p>\n",
       "</div>"
      ],
      "text/plain": [
       "        Unnamed: 0  Unnamed: 0.1              State          Centre Commodity  \\\n",
       "812660      822990        822990     Andhra Pradesh        Chittoor    Coffee   \n",
       "812662      822992        822992     Andhra Pradesh          Guntur    Coffee   \n",
       "812664      822994        822994     Andhra Pradesh         Kurnool    Coffee   \n",
       "812666      822996        822996     Andhra Pradesh  Vishakhapatnam    Coffee   \n",
       "812668      822998        822998  Arunachal Pradesh        Itanagar    Coffee   \n",
       "...            ...           ...                ...             ...       ...   \n",
       "821879      832286        832286        West Bengal         Asansol    Coffee   \n",
       "821881      832288        832288        West Bengal          Howrah    Coffee   \n",
       "821883      832290        832290        West Bengal      Jalpaiguri    Coffee   \n",
       "821885      832292        832292        West Bengal         Kolkata    Coffee   \n",
       "821887      832294        832294        West Bengal           Malda    Coffee   \n",
       "\n",
       "        Variety        Unit Category      Date  Retail Price Month  Year  \n",
       "812660  Instant  500gm. Pkt     Food  JAN-2001    137.375000   JAN  2001  \n",
       "812662  Instant  500gm. Pkt     Food  JAN-2001    137.375000   JAN  2001  \n",
       "812664  Instant  500gm. Pkt     Food  JAN-2001    137.375000   JAN  2001  \n",
       "812666  Instant  500gm. Pkt     Food  JAN-2001    137.375000   JAN  2001  \n",
       "812668  Instant  500gm. Pkt     Food  JAN-2001    137.375000   JAN  2001  \n",
       "...         ...         ...      ...       ...           ...   ...   ...  \n",
       "821879  Instant  500gm. Pkt     Food  DEC-2001    137.545455   DEC  2001  \n",
       "821881  Instant  500gm. Pkt     Food  DEC-2001    137.545455   DEC  2001  \n",
       "821883  Instant  500gm. Pkt     Food  DEC-2001    137.545455   DEC  2001  \n",
       "821885  Instant  500gm. Pkt     Food  DEC-2001    137.545455   DEC  2001  \n",
       "821887  Instant  500gm. Pkt     Food  DEC-2001    137.545455   DEC  2001  \n",
       "\n",
       "[972 rows x 12 columns]"
      ]
     },
     "execution_count": 45,
     "metadata": {},
     "output_type": "execute_result"
    }
   ],
   "source": [
    "df[(df[\"Commodity\"]==\"Coffee\")&(df[\"Variety\"]==\"Instant\")&(df[\"Year\"]==2001)]"
   ]
  },
  {
   "cell_type": "code",
   "execution_count": 46,
   "id": "97308f27",
   "metadata": {},
   "outputs": [
    {
     "data": {
      "text/plain": [
       "array(['Instant', 'Powdered'], dtype=object)"
      ]
     },
     "execution_count": 46,
     "metadata": {},
     "output_type": "execute_result"
    }
   ],
   "source": [
    "df[(df[\"Commodity\"]==\"Coffee\")][\"Variety\"].unique()"
   ]
  },
  {
   "cell_type": "code",
   "execution_count": null,
   "id": "a9dbea35",
   "metadata": {},
   "outputs": [],
   "source": []
  },
  {
   "cell_type": "markdown",
   "id": "812df6a8",
   "metadata": {},
   "source": [
    "# 13. What are the varieties of fish available in the market from 2001 to 2010?"
   ]
  },
  {
   "cell_type": "code",
   "execution_count": 51,
   "id": "bbe2c432",
   "metadata": {},
   "outputs": [
    {
     "data": {
      "text/plain": [
       "array(['Cat Fish', 'Pomphret', 'Rohu 1Kg Size'], dtype=object)"
      ]
     },
     "execution_count": 51,
     "metadata": {},
     "output_type": "execute_result"
    }
   ],
   "source": [
    "df[(df[\"Commodity\"]==\"Fish\")][\"Variety\"].unique()"
   ]
  },
  {
   "cell_type": "code",
   "execution_count": 66,
   "id": "59cbd6c3",
   "metadata": {},
   "outputs": [],
   "source": [
    "Year1 = range(2001,2011)"
   ]
  },
  {
   "cell_type": "code",
   "execution_count": 72,
   "id": "e880750a",
   "metadata": {},
   "outputs": [
    {
     "name": "stdout",
     "output_type": "stream",
     "text": [
      "2001 ['Cat Fish' 'Pomphret' 'Rohu 1Kg Size']\n",
      "2002 ['Cat Fish' 'Pomphret' 'Rohu 1Kg Size']\n",
      "2003 ['Cat Fish' 'Pomphret' 'Rohu 1Kg Size']\n",
      "2004 ['Cat Fish' 'Pomphret' 'Rohu 1Kg Size']\n",
      "2005 ['Cat Fish' 'Pomphret' 'Rohu 1Kg Size']\n",
      "2006 ['Cat Fish' 'Pomphret' 'Rohu 1Kg Size']\n",
      "2007 ['Cat Fish' 'Pomphret' 'Rohu 1Kg Size']\n",
      "2008 ['Cat Fish' 'Pomphret' 'Rohu 1Kg Size']\n",
      "2009 ['Cat Fish' 'Pomphret' 'Rohu 1Kg Size']\n",
      "2010 ['Cat Fish' 'Pomphret' 'Rohu 1Kg Size']\n"
     ]
    }
   ],
   "source": [
    "for i in Year1:\n",
    "    comm = df[(df[\"Commodity\"]==\"Fish\")&(df[\"Year\"]==i)][\"Variety\"].unique()\n",
    "    print(i,comm)"
   ]
  },
  {
   "cell_type": "markdown",
   "id": "db48b75a",
   "metadata": {},
   "source": [
    "# 14. Which state has lowest price of Bajra according to yearwise?"
   ]
  },
  {
   "cell_type": "code",
   "execution_count": 53,
   "id": "d1c59f04",
   "metadata": {},
   "outputs": [
    {
     "data": {
      "text/plain": [
       "3.5"
      ]
     },
     "execution_count": 53,
     "metadata": {},
     "output_type": "execute_result"
    }
   ],
   "source": [
    "df[(df[\"Commodity\"]==\"Bajra\")][\"Retail Price\"].min()"
   ]
  },
  {
   "cell_type": "code",
   "execution_count": 54,
   "id": "d7e1ba4c",
   "metadata": {},
   "outputs": [
    {
     "data": {
      "text/html": [
       "<div>\n",
       "<style scoped>\n",
       "    .dataframe tbody tr th:only-of-type {\n",
       "        vertical-align: middle;\n",
       "    }\n",
       "\n",
       "    .dataframe tbody tr th {\n",
       "        vertical-align: top;\n",
       "    }\n",
       "\n",
       "    .dataframe thead th {\n",
       "        text-align: right;\n",
       "    }\n",
       "</style>\n",
       "<table border=\"1\" class=\"dataframe\">\n",
       "  <thead>\n",
       "    <tr style=\"text-align: right;\">\n",
       "      <th></th>\n",
       "      <th>Unnamed: 0</th>\n",
       "      <th>Unnamed: 0.1</th>\n",
       "      <th>State</th>\n",
       "      <th>Centre</th>\n",
       "      <th>Commodity</th>\n",
       "      <th>Variety</th>\n",
       "      <th>Unit</th>\n",
       "      <th>Category</th>\n",
       "      <th>Date</th>\n",
       "      <th>Retail Price</th>\n",
       "      <th>Month</th>\n",
       "      <th>Year</th>\n",
       "    </tr>\n",
       "  </thead>\n",
       "  <tbody>\n",
       "    <tr>\n",
       "      <th>306192</th>\n",
       "      <td>309339</td>\n",
       "      <td>309339</td>\n",
       "      <td>Uttar Pradesh</td>\n",
       "      <td>Agra</td>\n",
       "      <td>Bajra</td>\n",
       "      <td>FAQ</td>\n",
       "      <td>Kg.</td>\n",
       "      <td>Food</td>\n",
       "      <td>AUG-2001</td>\n",
       "      <td>3.5</td>\n",
       "      <td>AUG</td>\n",
       "      <td>2001</td>\n",
       "    </tr>\n",
       "  </tbody>\n",
       "</table>\n",
       "</div>"
      ],
      "text/plain": [
       "        Unnamed: 0  Unnamed: 0.1          State Centre Commodity Variety Unit  \\\n",
       "306192      309339        309339  Uttar Pradesh   Agra     Bajra     FAQ  Kg.   \n",
       "\n",
       "       Category      Date  Retail Price Month  Year  \n",
       "306192     Food  AUG-2001           3.5   AUG  2001  "
      ]
     },
     "execution_count": 54,
     "metadata": {},
     "output_type": "execute_result"
    }
   ],
   "source": [
    "df[(df[\"Commodity\"]==\"Bajra\") & (df[\"Retail Price\"]==3.5)]"
   ]
  },
  {
   "cell_type": "code",
   "execution_count": null,
   "id": "fbfd67e0",
   "metadata": {},
   "outputs": [],
   "source": []
  },
  {
   "cell_type": "markdown",
   "id": "5aa36de3",
   "metadata": {},
   "source": [
    "# 15. How many types of oils are available and their varieties?"
   ]
  },
  {
   "cell_type": "code",
   "execution_count": 47,
   "id": "c4aab4bb",
   "metadata": {},
   "outputs": [],
   "source": [
    "Oils = df.loc[df['Commodity'].str.contains(\"oil\", case=False)]"
   ]
  },
  {
   "cell_type": "code",
   "execution_count": 48,
   "id": "b9feb1f5",
   "metadata": {},
   "outputs": [
    {
     "data": {
      "text/html": [
       "<div>\n",
       "<style scoped>\n",
       "    .dataframe tbody tr th:only-of-type {\n",
       "        vertical-align: middle;\n",
       "    }\n",
       "\n",
       "    .dataframe tbody tr th {\n",
       "        vertical-align: top;\n",
       "    }\n",
       "\n",
       "    .dataframe thead th {\n",
       "        text-align: right;\n",
       "    }\n",
       "</style>\n",
       "<table border=\"1\" class=\"dataframe\">\n",
       "  <thead>\n",
       "    <tr style=\"text-align: right;\">\n",
       "      <th></th>\n",
       "      <th>Unnamed: 0</th>\n",
       "      <th>Unnamed: 0.1</th>\n",
       "      <th>State</th>\n",
       "      <th>Centre</th>\n",
       "      <th>Commodity</th>\n",
       "      <th>Variety</th>\n",
       "      <th>Unit</th>\n",
       "      <th>Category</th>\n",
       "      <th>Date</th>\n",
       "      <th>Retail Price</th>\n",
       "      <th>Month</th>\n",
       "      <th>Year</th>\n",
       "    </tr>\n",
       "  </thead>\n",
       "  <tbody>\n",
       "    <tr>\n",
       "      <th>85</th>\n",
       "      <td>86</td>\n",
       "      <td>86</td>\n",
       "      <td>Andhra Pradesh</td>\n",
       "      <td>Chittoor</td>\n",
       "      <td>Mustard Oil</td>\n",
       "      <td>FAQ</td>\n",
       "      <td>Kg/Litre</td>\n",
       "      <td>Food</td>\n",
       "      <td>JAN-2001</td>\n",
       "      <td>41.206250</td>\n",
       "      <td>JAN</td>\n",
       "      <td>2001</td>\n",
       "    </tr>\n",
       "    <tr>\n",
       "      <th>86</th>\n",
       "      <td>87</td>\n",
       "      <td>87</td>\n",
       "      <td>Andhra Pradesh</td>\n",
       "      <td>Guntur</td>\n",
       "      <td>Mustard Oil</td>\n",
       "      <td>FAQ</td>\n",
       "      <td>Kg/Litre</td>\n",
       "      <td>Food</td>\n",
       "      <td>JAN-2001</td>\n",
       "      <td>41.206250</td>\n",
       "      <td>JAN</td>\n",
       "      <td>2001</td>\n",
       "    </tr>\n",
       "    <tr>\n",
       "      <th>87</th>\n",
       "      <td>88</td>\n",
       "      <td>88</td>\n",
       "      <td>Andhra Pradesh</td>\n",
       "      <td>Kurnool</td>\n",
       "      <td>Mustard Oil</td>\n",
       "      <td>FAQ</td>\n",
       "      <td>Kg/Litre</td>\n",
       "      <td>Food</td>\n",
       "      <td>JAN-2001</td>\n",
       "      <td>50.000000</td>\n",
       "      <td>JAN</td>\n",
       "      <td>2001</td>\n",
       "    </tr>\n",
       "    <tr>\n",
       "      <th>88</th>\n",
       "      <td>89</td>\n",
       "      <td>89</td>\n",
       "      <td>Andhra Pradesh</td>\n",
       "      <td>Vishakhapatnam</td>\n",
       "      <td>Mustard Oil</td>\n",
       "      <td>FAQ</td>\n",
       "      <td>Kg/Litre</td>\n",
       "      <td>Food</td>\n",
       "      <td>JAN-2001</td>\n",
       "      <td>41.206250</td>\n",
       "      <td>JAN</td>\n",
       "      <td>2001</td>\n",
       "    </tr>\n",
       "    <tr>\n",
       "      <th>89</th>\n",
       "      <td>90</td>\n",
       "      <td>90</td>\n",
       "      <td>Arunachal Pradesh</td>\n",
       "      <td>Itanagar</td>\n",
       "      <td>Mustard Oil</td>\n",
       "      <td>FAQ</td>\n",
       "      <td>Kg/Litre</td>\n",
       "      <td>Food</td>\n",
       "      <td>JAN-2001</td>\n",
       "      <td>41.206250</td>\n",
       "      <td>JAN</td>\n",
       "      <td>2001</td>\n",
       "    </tr>\n",
       "    <tr>\n",
       "      <th>...</th>\n",
       "      <td>...</td>\n",
       "      <td>...</td>\n",
       "      <td>...</td>\n",
       "      <td>...</td>\n",
       "      <td>...</td>\n",
       "      <td>...</td>\n",
       "      <td>...</td>\n",
       "      <td>...</td>\n",
       "      <td>...</td>\n",
       "      <td>...</td>\n",
       "      <td>...</td>\n",
       "      <td>...</td>\n",
       "    </tr>\n",
       "    <tr>\n",
       "      <th>1012305</th>\n",
       "      <td>1024328</td>\n",
       "      <td>1024328</td>\n",
       "      <td>Uttarakhand</td>\n",
       "      <td>Srinagar</td>\n",
       "      <td>Coconut Oil</td>\n",
       "      <td>FAQ</td>\n",
       "      <td>Kg/Litre</td>\n",
       "      <td>Food</td>\n",
       "      <td>MAR-2021</td>\n",
       "      <td>280.538462</td>\n",
       "      <td>MAR</td>\n",
       "      <td>2021</td>\n",
       "    </tr>\n",
       "    <tr>\n",
       "      <th>1012306</th>\n",
       "      <td>1024329</td>\n",
       "      <td>1024329</td>\n",
       "      <td>West Bengal</td>\n",
       "      <td>Asansol</td>\n",
       "      <td>Coconut Oil</td>\n",
       "      <td>FAQ</td>\n",
       "      <td>Kg/Litre</td>\n",
       "      <td>Food</td>\n",
       "      <td>MAR-2021</td>\n",
       "      <td>154.000000</td>\n",
       "      <td>MAR</td>\n",
       "      <td>2021</td>\n",
       "    </tr>\n",
       "    <tr>\n",
       "      <th>1012307</th>\n",
       "      <td>1024330</td>\n",
       "      <td>1024330</td>\n",
       "      <td>West Bengal</td>\n",
       "      <td>Howrah</td>\n",
       "      <td>Coconut Oil</td>\n",
       "      <td>FAQ</td>\n",
       "      <td>Kg/Litre</td>\n",
       "      <td>Food</td>\n",
       "      <td>MAR-2021</td>\n",
       "      <td>310.000000</td>\n",
       "      <td>MAR</td>\n",
       "      <td>2021</td>\n",
       "    </tr>\n",
       "    <tr>\n",
       "      <th>1012308</th>\n",
       "      <td>1024331</td>\n",
       "      <td>1024331</td>\n",
       "      <td>West Bengal</td>\n",
       "      <td>Jalpaiguri</td>\n",
       "      <td>Coconut Oil</td>\n",
       "      <td>FAQ</td>\n",
       "      <td>Kg/Litre</td>\n",
       "      <td>Food</td>\n",
       "      <td>MAR-2021</td>\n",
       "      <td>280.538462</td>\n",
       "      <td>MAR</td>\n",
       "      <td>2021</td>\n",
       "    </tr>\n",
       "    <tr>\n",
       "      <th>1012309</th>\n",
       "      <td>1024332</td>\n",
       "      <td>1024332</td>\n",
       "      <td>West Bengal</td>\n",
       "      <td>Kolkata</td>\n",
       "      <td>Coconut Oil</td>\n",
       "      <td>FAQ</td>\n",
       "      <td>Kg/Litre</td>\n",
       "      <td>Food</td>\n",
       "      <td>MAR-2021</td>\n",
       "      <td>310.000000</td>\n",
       "      <td>MAR</td>\n",
       "      <td>2021</td>\n",
       "    </tr>\n",
       "  </tbody>\n",
       "</table>\n",
       "<p>80190 rows × 12 columns</p>\n",
       "</div>"
      ],
      "text/plain": [
       "         Unnamed: 0  Unnamed: 0.1              State          Centre  \\\n",
       "85               86            86     Andhra Pradesh        Chittoor   \n",
       "86               87            87     Andhra Pradesh          Guntur   \n",
       "87               88            88     Andhra Pradesh         Kurnool   \n",
       "88               89            89     Andhra Pradesh  Vishakhapatnam   \n",
       "89               90            90  Arunachal Pradesh        Itanagar   \n",
       "...             ...           ...                ...             ...   \n",
       "1012305     1024328       1024328        Uttarakhand        Srinagar   \n",
       "1012306     1024329       1024329        West Bengal         Asansol   \n",
       "1012307     1024330       1024330        West Bengal          Howrah   \n",
       "1012308     1024331       1024331        West Bengal      Jalpaiguri   \n",
       "1012309     1024332       1024332        West Bengal         Kolkata   \n",
       "\n",
       "           Commodity Variety      Unit Category      Date  Retail Price Month  \\\n",
       "85       Mustard Oil     FAQ  Kg/Litre     Food  JAN-2001     41.206250   JAN   \n",
       "86       Mustard Oil     FAQ  Kg/Litre     Food  JAN-2001     41.206250   JAN   \n",
       "87       Mustard Oil     FAQ  Kg/Litre     Food  JAN-2001     50.000000   JAN   \n",
       "88       Mustard Oil     FAQ  Kg/Litre     Food  JAN-2001     41.206250   JAN   \n",
       "89       Mustard Oil     FAQ  Kg/Litre     Food  JAN-2001     41.206250   JAN   \n",
       "...              ...     ...       ...      ...       ...           ...   ...   \n",
       "1012305  Coconut Oil     FAQ  Kg/Litre     Food  MAR-2021    280.538462   MAR   \n",
       "1012306  Coconut Oil     FAQ  Kg/Litre     Food  MAR-2021    154.000000   MAR   \n",
       "1012307  Coconut Oil     FAQ  Kg/Litre     Food  MAR-2021    310.000000   MAR   \n",
       "1012308  Coconut Oil     FAQ  Kg/Litre     Food  MAR-2021    280.538462   MAR   \n",
       "1012309  Coconut Oil     FAQ  Kg/Litre     Food  MAR-2021    310.000000   MAR   \n",
       "\n",
       "         Year  \n",
       "85       2001  \n",
       "86       2001  \n",
       "87       2001  \n",
       "88       2001  \n",
       "89       2001  \n",
       "...       ...  \n",
       "1012305  2021  \n",
       "1012306  2021  \n",
       "1012307  2021  \n",
       "1012308  2021  \n",
       "1012309  2021  \n",
       "\n",
       "[80190 rows x 12 columns]"
      ]
     },
     "execution_count": 48,
     "metadata": {},
     "output_type": "execute_result"
    }
   ],
   "source": [
    "Oils"
   ]
  },
  {
   "cell_type": "code",
   "execution_count": 49,
   "id": "7e8427a0",
   "metadata": {},
   "outputs": [
    {
     "data": {
      "text/plain": [
       "array(['Mustard Oil', 'Groundnut Oil', 'Gingelly Oil', 'Coconut Oil'],\n",
       "      dtype=object)"
      ]
     },
     "execution_count": 49,
     "metadata": {},
     "output_type": "execute_result"
    }
   ],
   "source": [
    "Oils[\"Commodity\"].unique()"
   ]
  },
  {
   "cell_type": "code",
   "execution_count": 50,
   "id": "18775a44",
   "metadata": {},
   "outputs": [
    {
     "data": {
      "text/plain": [
       "array(['FAQ'], dtype=object)"
      ]
     },
     "execution_count": 50,
     "metadata": {},
     "output_type": "execute_result"
    }
   ],
   "source": [
    "Oils[\"Variety\"].unique()"
   ]
  },
  {
   "cell_type": "markdown",
   "id": "4729cd60",
   "metadata": {},
   "source": [
    "# 16. Which state consume more local products commodity wise?[in variety field]"
   ]
  },
  {
   "cell_type": "code",
   "execution_count": 56,
   "id": "e6b1f76f",
   "metadata": {},
   "outputs": [],
   "source": [
    "com = df[\"Commodity\"].unique()"
   ]
  },
  {
   "cell_type": "code",
   "execution_count": 63,
   "id": "224211d0",
   "metadata": {},
   "outputs": [
    {
     "data": {
      "text/plain": [
       "46"
      ]
     },
     "execution_count": 63,
     "metadata": {},
     "output_type": "execute_result"
    }
   ],
   "source": [
    "len(com)"
   ]
  },
  {
   "cell_type": "code",
   "execution_count": 57,
   "id": "ce058f5c",
   "metadata": {},
   "outputs": [],
   "source": [
    "state = df[\"State\"].unique()"
   ]
  },
  {
   "cell_type": "code",
   "execution_count": 62,
   "id": "1e44b9d6",
   "metadata": {},
   "outputs": [
    {
     "data": {
      "text/plain": [
       "30"
      ]
     },
     "execution_count": 62,
     "metadata": {},
     "output_type": "execute_result"
    }
   ],
   "source": [
    "len(state)"
   ]
  },
  {
   "cell_type": "code",
   "execution_count": 75,
   "id": "1277d45f",
   "metadata": {},
   "outputs": [],
   "source": [
    "var = df[\"Variety\"].unique()"
   ]
  },
  {
   "cell_type": "code",
   "execution_count": 78,
   "id": "3be7d816",
   "metadata": {},
   "outputs": [],
   "source": [
    "df2 = df[(df[\"Variety\"]==\"Local\") | (df[\"Variety\"]==\"Desi\")]"
   ]
  },
  {
   "cell_type": "code",
   "execution_count": 80,
   "id": "8ff5ca68",
   "metadata": {},
   "outputs": [
    {
     "data": {
      "text/plain": [
       "array(['Gur', 'Ghee', 'Bread', 'Wheat'], dtype=object)"
      ]
     },
     "execution_count": 80,
     "metadata": {},
     "output_type": "execute_result"
    }
   ],
   "source": [
    "df2.Commodity.unique()"
   ]
  },
  {
   "cell_type": "code",
   "execution_count": 100,
   "id": "9fa8f11a",
   "metadata": {},
   "outputs": [
    {
     "data": {
      "text/plain": [
       "1458"
      ]
     },
     "execution_count": 100,
     "metadata": {},
     "output_type": "execute_result"
    }
   ],
   "source": [
    "df2.groupby([\"State\",\"Commodity\"])[\"Unit\"].count().max()"
   ]
  },
  {
   "cell_type": "code",
   "execution_count": 131,
   "id": "0ae1d092",
   "metadata": {
    "collapsed": true
   },
   "outputs": [
    {
     "data": {
      "text/plain": [
       "Madhya Pradesh       1458\n",
       "Uttar Pradesh        1458\n",
       "Tamil Nadu           1458\n",
       "Rajasthan            1215\n",
       "Maharashtra          1215\n",
       "West Bengal           972\n",
       "Bihar                 972\n",
       "Andhra Pradesh        972\n",
       "Karnataka             972\n",
       "Gujarat               972\n",
       "Assam                 972\n",
       "Punjab                729\n",
       "Union Territories     729\n",
       "Kerala                729\n",
       "Orissa                729\n",
       "Jharkhand             486\n",
       "Himachal Pradesh      486\n",
       "Haryana               486\n",
       "Uttarakhand           486\n",
       "Jammu Kashmir         486\n",
       "Manipur               243\n",
       "Mizoram               243\n",
       "Meghalaya             243\n",
       "Telangana             243\n",
       "Arunachal Pradesh     243\n",
       "National Capital      243\n",
       "Sikkim                243\n",
       "Tripura               243\n",
       "Nagaland              243\n",
       "Goa                   243\n",
       "Name: State, dtype: int64"
      ]
     },
     "execution_count": 131,
     "metadata": {},
     "output_type": "execute_result"
    }
   ],
   "source": [
    "df2[df2[\"Commodity\"]==\"Bread\"].State.value_counts()"
   ]
  },
  {
   "cell_type": "code",
   "execution_count": 132,
   "id": "1b515387",
   "metadata": {},
   "outputs": [
    {
     "data": {
      "image/png": "[encoded data removed]",
      "text/plain": [
       "<Figure size 1080x864 with 1 Axes>"
      ]
     },
     "metadata": {
      "needs_background": "light"
     },
     "output_type": "display_data"
    },
    {
     "data": {
      "image/png": "[encoded data removed]",
      "text/plain": [
       "<Figure size 1080x864 with 1 Axes>"
      ]
     },
     "metadata": {
      "needs_background": "light"
     },
     "output_type": "display_data"
    },
    {
     "data": {
      "image/png": "[encoded data removed]",
      "text/plain": [
       "<Figure size 1080x864 with 1 Axes>"
      ]
     },
     "metadata": {
      "needs_background": "light"
     },
     "output_type": "display_data"
    },
    {
     "data": {
      "image/png": "[encoded data removed]",
      "text/plain": [
       "<Figure size 1080x864 with 1 Axes>"
      ]
     },
     "metadata": {
      "needs_background": "light"
     },
     "output_type": "display_data"
    }
   ],
   "source": [
    "h = df2.Commodity.unique()\n",
    "for i in h:\n",
    "    plt.figure(figsize=(15,12))\n",
    "    df2[df2[\"Commodity\"]==i].State.value_counts().plot(kind=\"bar\")\n",
    "    #print(n)\n",
    "    plt.title(i)\n",
    "    plt.show()"
   ]
  },
  {
   "cell_type": "code",
   "execution_count": null,
   "id": "1728266f",
   "metadata": {},
   "outputs": [],
   "source": []
  }
 ],
 "metadata": {
  "kernelspec": {
   "display_name": "Python 3",
   "language": "python",
   "name": "python3"
  },
  "language_info": {
   "codemirror_mode": {
    "name": "ipython",
    "version": 3
   },
   "file_extension": ".py",
   "mimetype": "text/x-python",
   "name": "python",
   "nbconvert_exporter": "python",
   "pygments_lexer": "ipython3",
   "version": "3.8.5"
  }
 },
 "nbformat": 4,
 "nbformat_minor": 5
}
